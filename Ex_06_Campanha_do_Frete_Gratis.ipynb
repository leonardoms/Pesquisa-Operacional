{
  "nbformat": 4,
  "nbformat_minor": 0,
  "metadata": {
    "colab": {
      "provenance": []
    },
    "kernelspec": {
      "name": "python3",
      "display_name": "Python 3"
    },
    "language_info": {
      "name": "python"
    }
  },
  "cells": [
    {
      "cell_type": "markdown",
      "source": [
        "## Exercícios de Pesquisa Operacional\n",
        "\n",
        "Exercícios criados projetados para testar competências essenciais, tais como:\n",
        "* Otimização linear;\n",
        "* Tomada de decisão em cenários reais; e\n",
        "* Estratégias práticas de logística e gestão."
      ],
      "metadata": {
        "id": "dcs30X-d-Mvx"
      }
    },
    {
      "cell_type": "markdown",
      "source": [
        "### Prepara o ambiente de execução"
      ],
      "metadata": {
        "id": "YIuUR6_pADYf"
      }
    },
    {
      "cell_type": "code",
      "source": [
        "!pip install pulp | tail -1\n",
        "!pip install pandas | tail -1\n",
        "!pip install numpy | tail -1\n",
        "\n",
        "import pulp\n",
        "import pandas as pd\n",
        "import numpy as np"
      ],
      "metadata": {
        "id": "p3AIxLJEADFr",
        "colab": {
          "base_uri": "https://localhost:8080/"
        },
        "outputId": "37113a41-33b9-46b5-8113-51b6d58710e7"
      },
      "execution_count": null,
      "outputs": [
        {
          "output_type": "stream",
          "name": "stdout",
          "text": [
            "Successfully installed pulp-3.1.1\n",
            "Requirement already satisfied: six>=1.5 in /usr/local/lib/python3.11/dist-packages (from python-dateutil>=2.8.2->pandas) (1.17.0)\n",
            "Requirement already satisfied: numpy in /usr/local/lib/python3.11/dist-packages (2.0.2)\n"
          ]
        }
      ]
    },
    {
      "cell_type": "markdown",
      "source": [
        "### Exercício 6: Campanha do Frete Grátis\n",
        "\n",
        "Uma empresa de e-commerce pretende lançar uma promoção para entregas rápidas em cidades da Grande São Paulo e regiões vizinhas. A campanha promete:\n",
        "\n",
        "`\"Receba em até 24h ou o frete é por nossa conta!\"`\n",
        "\n",
        "---\n",
        "\n",
        "**Regras e Premissas 📜**\n",
        "* O cliente só paga o frete se a entrega for realizada em até 24h;\n",
        "* Se houver atraso, o cliente não paga nada e a empresa assume o custo do frete;\n",
        "* A margem de lucro líquido da empresa é de 20% sobre o valor do pedido; e\n",
        "* A empresa deseja manter pelo menos 5% de lucro, mesmo com reembolso do frete.\n",
        "\n",
        "---\n",
        "\n",
        "**Cenário**\n",
        "\n",
        "A campanha cobrirá as seguintes regiões com volumes médios diários e probabilidades de entrega dentro do prazo:\n",
        "\n",
        "| Região | Custo Médio do Frete (R\\$) |\tProb. de Entrega ≤ 24h |\tEntregas/dia |\n",
        "| ---: | :---: | :---: | :---: |\n",
        "| Centro de São Paulo |\t12 |\t98% |\t10.000 |\n",
        "| ABC Paulista\t| 15 |\t95%\t| 6.000 |\n",
        "| Osasco / Barueri\t| 20\t| 93%\t| 5.000 |\n",
        "| Mogi / Suzano\t| 28\t| 88%\t| 3.500 |\n",
        "| Sorocaba\t| 45\t| 75%\t| 1.800 |\n",
        "| Baixada Santista\t| 55\t| 65%\t| 1.200 |\n",
        "\n",
        "---\n",
        "\n",
        "Como analista calcule:\n",
        "\n",
        "* O Valor Esperado Monetário (EMV) para cada região;\n",
        "* O Valor mínimo do pedido para cada região;\n",
        "* O valor mínimo do pedido considerando o lucro de todas as regiões;"
      ],
      "metadata": {
        "id": "GfLK9jcj-qlY"
      }
    }
  ]
}