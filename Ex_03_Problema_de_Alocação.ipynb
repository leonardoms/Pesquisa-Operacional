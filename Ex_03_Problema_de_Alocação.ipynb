{
  "nbformat": 4,
  "nbformat_minor": 0,
  "metadata": {
    "colab": {
      "provenance": []
    },
    "kernelspec": {
      "name": "python3",
      "display_name": "Python 3"
    },
    "language_info": {
      "name": "python"
    }
  },
  "cells": [
    {
      "cell_type": "markdown",
      "source": [
        "## Exercícios de Pesquisa Operacional\n",
        "\n",
        "Exercícios criados projetados para testar competências essenciais, tais como:\n",
        "* Otimização linear;\n",
        "* Tomada de decisão em cenários reais; e\n",
        "* Estratégias práticas de logística e gestão."
      ],
      "metadata": {
        "id": "dcs30X-d-Mvx"
      }
    },
    {
      "cell_type": "markdown",
      "source": [
        "### Prepara o ambiente de execução"
      ],
      "metadata": {
        "id": "YIuUR6_pADYf"
      }
    },
    {
      "cell_type": "code",
      "source": [
        "!pip install pulp | tail -1\n",
        "!pip install pandas | tail -1\n",
        "!pip install numpy | tail -1\n",
        "\n",
        "import pulp\n",
        "import pandas as pd\n",
        "import numpy as np"
      ],
      "metadata": {
        "id": "p3AIxLJEADFr",
        "colab": {
          "base_uri": "https://localhost:8080/"
        },
        "outputId": "aa0c30ca-4b02-412b-c0e2-baabe937fd16"
      },
      "execution_count": 45,
      "outputs": [
        {
          "output_type": "stream",
          "name": "stdout",
          "text": [
            "Requirement already satisfied: pulp in /usr/local/lib/python3.11/dist-packages (3.1.1)\n",
            "Requirement already satisfied: six>=1.5 in /usr/local/lib/python3.11/dist-packages (from python-dateutil>=2.8.2->pandas) (1.17.0)\n",
            "Requirement already satisfied: numpy in /usr/local/lib/python3.11/dist-packages (2.0.2)\n"
          ]
        }
      ]
    },
    {
      "cell_type": "markdown",
      "source": [
        "### Exercício 3: Problema de Alocação\n",
        "\n",
        "Uma empresa deve alocar 4 entregadores a 4 regiões diferentes. O tempo (em horas) para cada entregador completar as entregas em cada região está dado pela seguinte matriz:\n",
        "\n",
        "| Entregador | Santos | Campinas | Sorocaba | São José dos Campos |\n",
        "|:---:|:---:|:---:|:---:|:---:|\n",
        "| 1 | 5 | 7 | 6 | 4 |\n",
        "| 2 | 8 | 5 | 7 | 6 |\n",
        "| 3 | 4 | 6 | 8 | 5 |\n",
        "| 4 | 7 | 5 | 4 | 6 |\n",
        "\n",
        "---\n",
        "* Formule e resolva o problema utilizando um método apropriado, determinando a alocação ideal que minimiza o tempo total gasto."
      ],
      "metadata": {
        "id": "GfLK9jcj-qlY"
      }
    },
    {
      "cell_type": "markdown",
      "source": [
        "O problema consiste em alocar de forma otimizada um recurso limitado (os entregadores)"
      ],
      "metadata": {
        "id": "x0xn5ndn4UWK"
      }
    },
    {
      "cell_type": "code",
      "source": [
        "dados = {\n",
        "    \"Entregador\": [1, 2, 3, 4],\n",
        "    \"Santos\": [5, 8, 4, 7],\n",
        "    \"Campinas\": [7, 5, 6, 5],\n",
        "    \"Sorocaba\": [6, 7, 8, 4],\n",
        "    \"São José dos Campos\": [4, 6, 5, 6]\n",
        "}\n",
        "\n",
        "df = pd.DataFrame(dados)\n",
        "df.head()"
      ],
      "metadata": {
        "colab": {
          "base_uri": "https://localhost:8080/",
          "height": 175
        },
        "id": "3pgyPLMdECZ7",
        "outputId": "ffa1d81b-6e11-4a71-dded-89810d6c9c84"
      },
      "execution_count": 46,
      "outputs": [
        {
          "output_type": "execute_result",
          "data": {
            "text/plain": [
              "   Entregador  Santos  Campinas  Sorocaba  São José dos Campos\n",
              "0           1       5         7         6                    4\n",
              "1           2       8         5         7                    6\n",
              "2           3       4         6         8                    5\n",
              "3           4       7         5         4                    6"
            ],
            "text/html": [
              "\n",
              "  <div id=\"df-63809ff0-32d3-41ab-9a46-357ca2aee7e8\" class=\"colab-df-container\">\n",
              "    <div>\n",
              "<style scoped>\n",
              "    .dataframe tbody tr th:only-of-type {\n",
              "        vertical-align: middle;\n",
              "    }\n",
              "\n",
              "    .dataframe tbody tr th {\n",
              "        vertical-align: top;\n",
              "    }\n",
              "\n",
              "    .dataframe thead th {\n",
              "        text-align: right;\n",
              "    }\n",
              "</style>\n",
              "<table border=\"1\" class=\"dataframe\">\n",
              "  <thead>\n",
              "    <tr style=\"text-align: right;\">\n",
              "      <th></th>\n",
              "      <th>Entregador</th>\n",
              "      <th>Santos</th>\n",
              "      <th>Campinas</th>\n",
              "      <th>Sorocaba</th>\n",
              "      <th>São José dos Campos</th>\n",
              "    </tr>\n",
              "  </thead>\n",
              "  <tbody>\n",
              "    <tr>\n",
              "      <th>0</th>\n",
              "      <td>1</td>\n",
              "      <td>5</td>\n",
              "      <td>7</td>\n",
              "      <td>6</td>\n",
              "      <td>4</td>\n",
              "    </tr>\n",
              "    <tr>\n",
              "      <th>1</th>\n",
              "      <td>2</td>\n",
              "      <td>8</td>\n",
              "      <td>5</td>\n",
              "      <td>7</td>\n",
              "      <td>6</td>\n",
              "    </tr>\n",
              "    <tr>\n",
              "      <th>2</th>\n",
              "      <td>3</td>\n",
              "      <td>4</td>\n",
              "      <td>6</td>\n",
              "      <td>8</td>\n",
              "      <td>5</td>\n",
              "    </tr>\n",
              "    <tr>\n",
              "      <th>3</th>\n",
              "      <td>4</td>\n",
              "      <td>7</td>\n",
              "      <td>5</td>\n",
              "      <td>4</td>\n",
              "      <td>6</td>\n",
              "    </tr>\n",
              "  </tbody>\n",
              "</table>\n",
              "</div>\n",
              "    <div class=\"colab-df-buttons\">\n",
              "\n",
              "  <div class=\"colab-df-container\">\n",
              "    <button class=\"colab-df-convert\" onclick=\"convertToInteractive('df-63809ff0-32d3-41ab-9a46-357ca2aee7e8')\"\n",
              "            title=\"Convert this dataframe to an interactive table.\"\n",
              "            style=\"display:none;\">\n",
              "\n",
              "  <svg xmlns=\"http://www.w3.org/2000/svg\" height=\"24px\" viewBox=\"0 -960 960 960\">\n",
              "    <path d=\"M120-120v-720h720v720H120Zm60-500h600v-160H180v160Zm220 220h160v-160H400v160Zm0 220h160v-160H400v160ZM180-400h160v-160H180v160Zm440 0h160v-160H620v160ZM180-180h160v-160H180v160Zm440 0h160v-160H620v160Z\"/>\n",
              "  </svg>\n",
              "    </button>\n",
              "\n",
              "  <style>\n",
              "    .colab-df-container {\n",
              "      display:flex;\n",
              "      gap: 12px;\n",
              "    }\n",
              "\n",
              "    .colab-df-convert {\n",
              "      background-color: #E8F0FE;\n",
              "      border: none;\n",
              "      border-radius: 50%;\n",
              "      cursor: pointer;\n",
              "      display: none;\n",
              "      fill: #1967D2;\n",
              "      height: 32px;\n",
              "      padding: 0 0 0 0;\n",
              "      width: 32px;\n",
              "    }\n",
              "\n",
              "    .colab-df-convert:hover {\n",
              "      background-color: #E2EBFA;\n",
              "      box-shadow: 0px 1px 2px rgba(60, 64, 67, 0.3), 0px 1px 3px 1px rgba(60, 64, 67, 0.15);\n",
              "      fill: #174EA6;\n",
              "    }\n",
              "\n",
              "    .colab-df-buttons div {\n",
              "      margin-bottom: 4px;\n",
              "    }\n",
              "\n",
              "    [theme=dark] .colab-df-convert {\n",
              "      background-color: #3B4455;\n",
              "      fill: #D2E3FC;\n",
              "    }\n",
              "\n",
              "    [theme=dark] .colab-df-convert:hover {\n",
              "      background-color: #434B5C;\n",
              "      box-shadow: 0px 1px 3px 1px rgba(0, 0, 0, 0.15);\n",
              "      filter: drop-shadow(0px 1px 2px rgba(0, 0, 0, 0.3));\n",
              "      fill: #FFFFFF;\n",
              "    }\n",
              "  </style>\n",
              "\n",
              "    <script>\n",
              "      const buttonEl =\n",
              "        document.querySelector('#df-63809ff0-32d3-41ab-9a46-357ca2aee7e8 button.colab-df-convert');\n",
              "      buttonEl.style.display =\n",
              "        google.colab.kernel.accessAllowed ? 'block' : 'none';\n",
              "\n",
              "      async function convertToInteractive(key) {\n",
              "        const element = document.querySelector('#df-63809ff0-32d3-41ab-9a46-357ca2aee7e8');\n",
              "        const dataTable =\n",
              "          await google.colab.kernel.invokeFunction('convertToInteractive',\n",
              "                                                    [key], {});\n",
              "        if (!dataTable) return;\n",
              "\n",
              "        const docLinkHtml = 'Like what you see? Visit the ' +\n",
              "          '<a target=\"_blank\" href=https://colab.research.google.com/notebooks/data_table.ipynb>data table notebook</a>'\n",
              "          + ' to learn more about interactive tables.';\n",
              "        element.innerHTML = '';\n",
              "        dataTable['output_type'] = 'display_data';\n",
              "        await google.colab.output.renderOutput(dataTable, element);\n",
              "        const docLink = document.createElement('div');\n",
              "        docLink.innerHTML = docLinkHtml;\n",
              "        element.appendChild(docLink);\n",
              "      }\n",
              "    </script>\n",
              "  </div>\n",
              "\n",
              "\n",
              "<div id=\"df-a430a814-ac0b-453d-9dc7-b0f87eb6565b\">\n",
              "  <button class=\"colab-df-quickchart\" onclick=\"quickchart('df-a430a814-ac0b-453d-9dc7-b0f87eb6565b')\"\n",
              "            title=\"Suggest charts\"\n",
              "            style=\"display:none;\">\n",
              "\n",
              "<svg xmlns=\"http://www.w3.org/2000/svg\" height=\"24px\"viewBox=\"0 0 24 24\"\n",
              "     width=\"24px\">\n",
              "    <g>\n",
              "        <path d=\"M19 3H5c-1.1 0-2 .9-2 2v14c0 1.1.9 2 2 2h14c1.1 0 2-.9 2-2V5c0-1.1-.9-2-2-2zM9 17H7v-7h2v7zm4 0h-2V7h2v10zm4 0h-2v-4h2v4z\"/>\n",
              "    </g>\n",
              "</svg>\n",
              "  </button>\n",
              "\n",
              "<style>\n",
              "  .colab-df-quickchart {\n",
              "      --bg-color: #E8F0FE;\n",
              "      --fill-color: #1967D2;\n",
              "      --hover-bg-color: #E2EBFA;\n",
              "      --hover-fill-color: #174EA6;\n",
              "      --disabled-fill-color: #AAA;\n",
              "      --disabled-bg-color: #DDD;\n",
              "  }\n",
              "\n",
              "  [theme=dark] .colab-df-quickchart {\n",
              "      --bg-color: #3B4455;\n",
              "      --fill-color: #D2E3FC;\n",
              "      --hover-bg-color: #434B5C;\n",
              "      --hover-fill-color: #FFFFFF;\n",
              "      --disabled-bg-color: #3B4455;\n",
              "      --disabled-fill-color: #666;\n",
              "  }\n",
              "\n",
              "  .colab-df-quickchart {\n",
              "    background-color: var(--bg-color);\n",
              "    border: none;\n",
              "    border-radius: 50%;\n",
              "    cursor: pointer;\n",
              "    display: none;\n",
              "    fill: var(--fill-color);\n",
              "    height: 32px;\n",
              "    padding: 0;\n",
              "    width: 32px;\n",
              "  }\n",
              "\n",
              "  .colab-df-quickchart:hover {\n",
              "    background-color: var(--hover-bg-color);\n",
              "    box-shadow: 0 1px 2px rgba(60, 64, 67, 0.3), 0 1px 3px 1px rgba(60, 64, 67, 0.15);\n",
              "    fill: var(--button-hover-fill-color);\n",
              "  }\n",
              "\n",
              "  .colab-df-quickchart-complete:disabled,\n",
              "  .colab-df-quickchart-complete:disabled:hover {\n",
              "    background-color: var(--disabled-bg-color);\n",
              "    fill: var(--disabled-fill-color);\n",
              "    box-shadow: none;\n",
              "  }\n",
              "\n",
              "  .colab-df-spinner {\n",
              "    border: 2px solid var(--fill-color);\n",
              "    border-color: transparent;\n",
              "    border-bottom-color: var(--fill-color);\n",
              "    animation:\n",
              "      spin 1s steps(1) infinite;\n",
              "  }\n",
              "\n",
              "  @keyframes spin {\n",
              "    0% {\n",
              "      border-color: transparent;\n",
              "      border-bottom-color: var(--fill-color);\n",
              "      border-left-color: var(--fill-color);\n",
              "    }\n",
              "    20% {\n",
              "      border-color: transparent;\n",
              "      border-left-color: var(--fill-color);\n",
              "      border-top-color: var(--fill-color);\n",
              "    }\n",
              "    30% {\n",
              "      border-color: transparent;\n",
              "      border-left-color: var(--fill-color);\n",
              "      border-top-color: var(--fill-color);\n",
              "      border-right-color: var(--fill-color);\n",
              "    }\n",
              "    40% {\n",
              "      border-color: transparent;\n",
              "      border-right-color: var(--fill-color);\n",
              "      border-top-color: var(--fill-color);\n",
              "    }\n",
              "    60% {\n",
              "      border-color: transparent;\n",
              "      border-right-color: var(--fill-color);\n",
              "    }\n",
              "    80% {\n",
              "      border-color: transparent;\n",
              "      border-right-color: var(--fill-color);\n",
              "      border-bottom-color: var(--fill-color);\n",
              "    }\n",
              "    90% {\n",
              "      border-color: transparent;\n",
              "      border-bottom-color: var(--fill-color);\n",
              "    }\n",
              "  }\n",
              "</style>\n",
              "\n",
              "  <script>\n",
              "    async function quickchart(key) {\n",
              "      const quickchartButtonEl =\n",
              "        document.querySelector('#' + key + ' button');\n",
              "      quickchartButtonEl.disabled = true;  // To prevent multiple clicks.\n",
              "      quickchartButtonEl.classList.add('colab-df-spinner');\n",
              "      try {\n",
              "        const charts = await google.colab.kernel.invokeFunction(\n",
              "            'suggestCharts', [key], {});\n",
              "      } catch (error) {\n",
              "        console.error('Error during call to suggestCharts:', error);\n",
              "      }\n",
              "      quickchartButtonEl.classList.remove('colab-df-spinner');\n",
              "      quickchartButtonEl.classList.add('colab-df-quickchart-complete');\n",
              "    }\n",
              "    (() => {\n",
              "      let quickchartButtonEl =\n",
              "        document.querySelector('#df-a430a814-ac0b-453d-9dc7-b0f87eb6565b button');\n",
              "      quickchartButtonEl.style.display =\n",
              "        google.colab.kernel.accessAllowed ? 'block' : 'none';\n",
              "    })();\n",
              "  </script>\n",
              "</div>\n",
              "\n",
              "    </div>\n",
              "  </div>\n"
            ],
            "application/vnd.google.colaboratory.intrinsic+json": {
              "type": "dataframe",
              "variable_name": "df",
              "summary": "{\n  \"name\": \"df\",\n  \"rows\": 4,\n  \"fields\": [\n    {\n      \"column\": \"Entregador\",\n      \"properties\": {\n        \"dtype\": \"number\",\n        \"std\": 1,\n        \"min\": 1,\n        \"max\": 4,\n        \"num_unique_values\": 4,\n        \"samples\": [\n          2,\n          4,\n          1\n        ],\n        \"semantic_type\": \"\",\n        \"description\": \"\"\n      }\n    },\n    {\n      \"column\": \"Santos\",\n      \"properties\": {\n        \"dtype\": \"number\",\n        \"std\": 1,\n        \"min\": 4,\n        \"max\": 8,\n        \"num_unique_values\": 4,\n        \"samples\": [\n          8,\n          7,\n          5\n        ],\n        \"semantic_type\": \"\",\n        \"description\": \"\"\n      }\n    },\n    {\n      \"column\": \"Campinas\",\n      \"properties\": {\n        \"dtype\": \"number\",\n        \"std\": 0,\n        \"min\": 5,\n        \"max\": 7,\n        \"num_unique_values\": 3,\n        \"samples\": [\n          7,\n          5,\n          6\n        ],\n        \"semantic_type\": \"\",\n        \"description\": \"\"\n      }\n    },\n    {\n      \"column\": \"Sorocaba\",\n      \"properties\": {\n        \"dtype\": \"number\",\n        \"std\": 1,\n        \"min\": 4,\n        \"max\": 8,\n        \"num_unique_values\": 4,\n        \"samples\": [\n          7,\n          4,\n          6\n        ],\n        \"semantic_type\": \"\",\n        \"description\": \"\"\n      }\n    },\n    {\n      \"column\": \"S\\u00e3o Jos\\u00e9 dos Campos\",\n      \"properties\": {\n        \"dtype\": \"number\",\n        \"std\": 0,\n        \"min\": 4,\n        \"max\": 6,\n        \"num_unique_values\": 3,\n        \"samples\": [\n          4,\n          6,\n          5\n        ],\n        \"semantic_type\": \"\",\n        \"description\": \"\"\n      }\n    }\n  ]\n}"
            }
          },
          "metadata": {},
          "execution_count": 46
        }
      ]
    },
    {
      "cell_type": "code",
      "source": [
        "# separa os tempos em um dataFrame\n",
        "tempo = df.iloc[:, 1:]\n",
        "\n",
        "# Cria as variáveis de decisão Xij, onde X define se o Entregador \"i\" irá passar pela cidade \"j\"\n",
        "x = pulp.LpVariable.dicts(\"x\", ((i, j) for i in range(1, 5) for j in range(1, 5)), cat='Binary')"
      ],
      "metadata": {
        "id": "uRpy1cau5pnm"
      },
      "execution_count": 47,
      "outputs": []
    },
    {
      "cell_type": "markdown",
      "source": [
        "O nosso objetivo é minimizar o tempo gasto pelos entregadores, logo:\n",
        "\n",
        "![image.png](data:image/png;base64,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)\n",
        "\n",
        "Onde tempo$_{ij}$ é o tempo necessário para o entregador *i* ir na região *j*"
      ],
      "metadata": {
        "id": "7tmg4mRp6LW7"
      }
    },
    {
      "cell_type": "code",
      "source": [
        "# Cria o Modelo de Otimização\n",
        "model = pulp.LpProblem(\"Entregas\", pulp.LpMinimize)\n",
        "\n",
        "# Define a função objetivo -> soma dos tempos para cada entregador\n",
        "model += pulp.lpSum(tempo.iloc[i-1, j-1] * x[(i, j)] for i in range(1, 5) for j in range(1, 5))\n",
        "\n",
        "# Define as restrições ao modelo\n",
        "\n",
        "# Restrição 1: cada entregador vai para uma cidade\n",
        "for j in range(1, 5):\n",
        "    model += pulp.lpSum(x[(i, j)] for i in range(1, 5)) == 1\n",
        "\n",
        "# Restrição 2: Cada cidade recebe um entregador\n",
        "for i in range(1, 5):\n",
        "    model += pulp.lpSum(x[(i, j)] for j in range(1, 5)) == 1\n",
        "\n",
        "# Resolve o modelo\n",
        "model.solve()"
      ],
      "metadata": {
        "colab": {
          "base_uri": "https://localhost:8080/"
        },
        "id": "tLAukqzWFGnH",
        "outputId": "2f1fd70e-d6e2-4036-a58b-67c9ea0e3b4d"
      },
      "execution_count": 48,
      "outputs": [
        {
          "output_type": "execute_result",
          "data": {
            "text/plain": [
              "1"
            ]
          },
          "metadata": {},
          "execution_count": 48
        }
      ]
    },
    {
      "cell_type": "code",
      "source": [
        "# Resultados\n",
        "# Entregador que irá para cada cidade\n",
        "horas = 0\n",
        "for i in range(1, 5):\n",
        "    for j in range(1, 5):\n",
        "        if x[(i, j)].varValue == 1:\n",
        "            horas += tempo.iloc[i-1, j-1]\n",
        "            print(f\"Entregador {i} irá para {df.columns[j]}\")\n",
        "\n",
        "print(f\"\\nForam gastas {horas} horas acumuladas em entregas.\")"
      ],
      "metadata": {
        "colab": {
          "base_uri": "https://localhost:8080/"
        },
        "id": "meQ61eSfNNvS",
        "outputId": "a9e0fa52-1a63-4b60-b233-033c5a496eeb"
      },
      "execution_count": 53,
      "outputs": [
        {
          "output_type": "stream",
          "name": "stdout",
          "text": [
            "Entregador 1 irá para São José dos Campos\n",
            "Entregador 2 irá para Campinas\n",
            "Entregador 3 irá para Santos\n",
            "Entregador 4 irá para Sorocaba\n",
            "\n",
            "Foram gastas 17 horas acumuladas em entregas.\n"
          ]
        }
      ]
    }
  ]
}