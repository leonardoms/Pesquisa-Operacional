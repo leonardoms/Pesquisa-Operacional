{
  "nbformat": 4,
  "nbformat_minor": 0,
  "metadata": {
    "colab": {
      "provenance": []
    },
    "kernelspec": {
      "name": "python3",
      "display_name": "Python 3"
    },
    "language_info": {
      "name": "python"
    }
  },
  "cells": [
    {
      "cell_type": "markdown",
      "source": [
        "## Exercícios de Pesquisa Operacional\n",
        "\n",
        "Exercícios criados projetados para testar competências essenciais, tais como:\n",
        "* Otimização linear;\n",
        "* Tomada de decisão em cenários reais; e\n",
        "* Estratégias práticas de logística e gestão."
      ],
      "metadata": {
        "id": "dcs30X-d-Mvx"
      }
    },
    {
      "cell_type": "markdown",
      "source": [
        "### Prepara o ambiente de execução"
      ],
      "metadata": {
        "id": "YIuUR6_pADYf"
      }
    },
    {
      "cell_type": "code",
      "source": [
        "!pip install pulp | tail -1\n",
        "!pip install pandas | tail -1\n",
        "!pip install numpy | tail -1\n",
        "\n",
        "import pulp\n",
        "import pandas as pd\n",
        "import numpy as np"
      ],
      "metadata": {
        "id": "p3AIxLJEADFr",
        "colab": {
          "base_uri": "https://localhost:8080/"
        },
        "outputId": "37113a41-33b9-46b5-8113-51b6d58710e7"
      },
      "execution_count": 2,
      "outputs": [
        {
          "output_type": "stream",
          "name": "stdout",
          "text": [
            "Successfully installed pulp-3.1.1\n",
            "Requirement already satisfied: six>=1.5 in /usr/local/lib/python3.11/dist-packages (from python-dateutil>=2.8.2->pandas) (1.17.0)\n",
            "Requirement already satisfied: numpy in /usr/local/lib/python3.11/dist-packages (2.0.2)\n"
          ]
        }
      ]
    },
    {
      "cell_type": "markdown",
      "source": [
        "### Exercício 5: Decisões sob Incerteza\n",
        "\n",
        "Uma empresa está avaliando a expansão para duas novas regiões, A e B. Os lucros esperados são os seguintes:\n",
        "\n",
        "| Cenário Econômico | Probabilidade | Região A (R\\$ mil) | Região B (R$ mil) |\n",
        "|---:|:---:|:---:|:---:|\n",
        "| Favorável  | 0,3 | 120 | 100 |\n",
        "| Moderado   | 0,5 | 80 | 70 |\n",
        "| Desfavorável | 0,2 | -40 | -10 |\n",
        "\n",
        "---\n",
        "1. Com base no valor monetário esperado (EMV), identifique qual região a Empresa deveria priorizar para expansão."
      ],
      "metadata": {
        "id": "GfLK9jcj-qlY"
      }
    },
    {
      "cell_type": "markdown",
      "source": [
        "#### Resolução\n",
        "\n",
        "Para resolver iremos aplicar a equação do Valor Monetário Esperado (EMV), que é uma ferramenta estatística usada para estimar o impacto financeiro de um evento em potencial. O EMV é calculado por:\n",
        "![image.png](data:image/png;base64,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)\n",
        "\n",
        "Onde:\n",
        "* *i*: representa o Cenário Econômico\n",
        "* Probabilidade: Risco do cenário se concretizar (0%, sem chances; e 100%, o cenário ocorrerá)\n",
        "* Lucro: representa o impacto caso um cenário se concretize"
      ],
      "metadata": {
        "id": "x0xn5ndn4UWK"
      }
    },
    {
      "cell_type": "code",
      "source": [
        "# Dados do problema\n",
        "probabilidade = [0.3, 0.5, 0.2]\n",
        "\n",
        "cidades = ['Região A', 'Região B']\n",
        "\n",
        "lucro = {'Região A': [120, 80, -40],\n",
        "         'Região B': [100, 70, -10]}\n",
        "\n",
        "# modelo irá maximizar o lucro\n",
        "model = pulp.LpProblem(\"Expansao\", pulp.LpMaximize)\n",
        "\n",
        "#variáveis de decisão\n",
        "x_A = pulp.LpVariable(\"Escolhe_A\", cat=\"Binary\")  # variável binária, 0 ou 1.\n",
        "x_B = pulp.LpVariable(\"Escolhe_B\", cat=\"Binary\")\n",
        "\n",
        "emv = {cidade: sum(p * l for p, l in zip(probabilidade, lucro[cidade])) for cidade in cidades}\n",
        "\n",
        "model += emv['Região A'] * x_A + emv['Região B'] * x_B # modelo é a soma dos lucros, porém...\n",
        "model += x_A + x_B == 1 # ... apenas uma região será escolhida\n",
        "\n",
        "# resolve\n",
        "model.solve()\n",
        "# Dados do problema\n",
        "probabilidade = [0.3, 0.5, 0.2]\n",
        "\n",
        "cidades = ['Região A', 'Região B']\n",
        "\n",
        "lucro = {'Região A': [120, 80, -40],\n",
        "         'Região B': [100, 70, -10]}\n",
        "\n",
        "# modelo irá maximizar o lucro\n",
        "model = pulp.LpProblem(\"Expansao\", pulp.LpMaximize)\n",
        "\n",
        "#variáveis de decisão\n",
        "x_A = pulp.LpVariable(\"Escolhe_A\", cat=\"Binary\")  # variável binária, 0 ou 1.\n",
        "x_B = pulp.LpVariable(\"Escolhe_B\", cat=\"Binary\")\n",
        "\n",
        "emv = {cidade: sum(p * l for p, l in zip(probabilidade, lucro[cidade])) for cidade in cidades}\n",
        "\n",
        "model += emv['Região A'] * x_A + emv['Região B'] * x_B # modelo é a soma dos lucros, porém...\n",
        "model += x_A + x_B == 1 # ... apenas uma região será escolhida\n",
        "\n",
        "# resolve\n",
        "model.solve()\n",
        "\n",
        "# imprime a solução\n",
        "print(f\"{( 'Região A' if pulp.value(x_A) else 'Região B')} foi escolhida.\")\n",
        "print(f\"Lucro esperado: R$ {((emv['Região A'] * x_A.value() + emv['Região B'] * x_B.value()) * 1000):.0f}\")"
      ],
      "metadata": {
        "id": "3pgyPLMdECZ7",
        "colab": {
          "base_uri": "https://localhost:8080/"
        },
        "outputId": "6440046a-b30a-4ca7-8c7c-d94174ac4e94"
      },
      "execution_count": 22,
      "outputs": [
        {
          "output_type": "stream",
          "name": "stdout",
          "text": [
            "Região A foi escolhida.\n",
            "Lucro esperado: R$ 68000\n"
          ]
        }
      ]
    }
  ]
}