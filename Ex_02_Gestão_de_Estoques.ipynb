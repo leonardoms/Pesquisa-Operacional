{
  "nbformat": 4,
  "nbformat_minor": 0,
  "metadata": {
    "colab": {
      "provenance": []
    },
    "kernelspec": {
      "name": "python3",
      "display_name": "Python 3"
    },
    "language_info": {
      "name": "python"
    }
  },
  "cells": [
    {
      "cell_type": "markdown",
      "source": [
        "## Exercícios de Pesquisa Operacional\n",
        "\n",
        "Exercícios criados projetados para testar competências essenciais, tais como:\n",
        "* Otimização linear;\n",
        "* Tomada de decisão em cenários reais; e\n",
        "* Estratégias práticas de logística e gestão."
      ],
      "metadata": {
        "id": "dcs30X-d-Mvx"
      }
    },
    {
      "cell_type": "markdown",
      "source": [
        "### Prepara o ambiente de execução"
      ],
      "metadata": {
        "id": "YIuUR6_pADYf"
      }
    },
    {
      "cell_type": "code",
      "source": [
        "!pip install pulp | tail -1\n",
        "!pip install pandas | tail -1\n",
        "!pip install numpy | tail -1\n",
        "\n",
        "import pulp\n",
        "import pandas as pd\n",
        "import numpy as np"
      ],
      "metadata": {
        "id": "p3AIxLJEADFr",
        "colab": {
          "base_uri": "https://localhost:8080/"
        },
        "outputId": "84b38e79-4e1e-4d5f-82a4-b9fa24fbbb55"
      },
      "execution_count": 3,
      "outputs": [
        {
          "output_type": "stream",
          "name": "stdout",
          "text": [
            "Successfully installed pulp-3.1.1\n",
            "Requirement already satisfied: six>=1.5 in /usr/local/lib/python3.11/dist-packages (from python-dateutil>=2.8.2->pandas) (1.17.0)\n",
            "Requirement already satisfied: numpy in /usr/local/lib/python3.11/dist-packages (2.0.2)\n"
          ]
        }
      ]
    },
    {
      "cell_type": "markdown",
      "source": [
        "### Exercício 2: Gestão de Estoques\n",
        "\n",
        "Uma filial deseja otimizar o gerenciamento de estoque de um produto popular. A demanda mensal média é de 4.000 unidades, o custo fixo de reposição é de R\\$120 por pedido, e o custo de manutenção anual do estoque por unidade é de R\\$8. Considerando que o tempo médio de reposição é de 15 dias, calcule:\n",
        "\n",
        "1. A Quantidade Económica de Encomenda (EOQ).\n",
        "2. O ponto de pedido.\n",
        "3. O custo anual total do estoque."
      ],
      "metadata": {
        "id": "GfLK9jcj-qlY"
      }
    },
    {
      "cell_type": "markdown",
      "source": [
        "#### Resolução 2.1 - Quantidade Económica de Encomenda\n",
        "\n",
        "A Quantidade Economica de Encomenda (EOQ) é a quantidade ideal de pedido que minimiza os custos totais de estoque, considerando tanto os custos de manutenção quanto os custos fixos de pedido. A EOQ é dada pela equação:\n",
        "\n",
        "![image.png](data:image/png;base64,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)\n",
        "\n",
        "Onde:\n",
        "* D: Demanda anual do produto (unidades)\n",
        "* S: Custo fixo de reposição por pedido\n",
        "* H: Custo anual de manutenção por unidade  \n",
        "\n",
        "Para uma rápida compreensão do que este número representa pode ser encontrada em [wikipedia.org/Economic_order_quantity](https://pt.wikipedia.org/wiki/Economic_order_quantity)"
      ],
      "metadata": {
        "id": "NXqHtj0DnZlW"
      }
    },
    {
      "cell_type": "code",
      "source": [
        "# dados do problema\n",
        "demanda_mensal = 4000\n",
        "custo_reposicao = 120\n",
        "custo_manutencao = 8\n",
        "tempo_reposicao = 15\n",
        "\n",
        "dias_por_mes = 30 # considerar apenas os dias de funcionamento\n",
        "demanda_anual = demanda_mensal * 12\n",
        "\n",
        "# Calculo do EOQ\n",
        "EOQ = np.sqrt((2 * demanda_anual * custo_reposicao) / custo_manutencao)\n",
        "\n",
        "print(f\"A quantidade economica de encomenda (EOQ) é de {EOQ} unidades\")"
      ],
      "metadata": {
        "colab": {
          "base_uri": "https://localhost:8080/"
        },
        "id": "5F-FnHzdtvw7",
        "outputId": "c8397a18-0a5c-47d2-8955-9fc573126e54"
      },
      "execution_count": 13,
      "outputs": [
        {
          "output_type": "stream",
          "name": "stdout",
          "text": [
            "A quantidade economica de encomenda (EOQ) é de 1200.0 unidades\n"
          ]
        }
      ]
    },
    {
      "cell_type": "markdown",
      "source": [
        "#### Resolução 2.2 - Ponto de Pedido\n",
        "\n",
        "O Ponto de Pedido é o momento ideal para uma empresa fazer uma nova compra de estoque, e é dado pela equação:\n",
        "\n",
        "  PP = d * T\n",
        "\n",
        "Onde:\n",
        "* d: Demanda diária média\n",
        "* T: Tempo para reposição (dias)\n"
      ],
      "metadata": {
        "id": "pjKuSq-DrlX4"
      }
    },
    {
      "cell_type": "code",
      "source": [
        "# demanda diária\n",
        "demanda_diaria = demanda_mensal / dias_por_mes\n",
        "\n",
        "# ponto de pedido\n",
        "ponto_pedido = demanda_diaria * tempo_reposicao\n",
        "\n",
        "print(f\"O ponto de pedido é de {ponto_pedido:.0f} unidades\")"
      ],
      "metadata": {
        "colab": {
          "base_uri": "https://localhost:8080/"
        },
        "id": "hlgZ65snvy_y",
        "outputId": "7b94a054-856f-4713-8a2a-e12d7eece42a"
      },
      "execution_count": 14,
      "outputs": [
        {
          "output_type": "stream",
          "name": "stdout",
          "text": [
            "O ponto de pedido é de 2000 unidades\n"
          ]
        }
      ]
    },
    {
      "cell_type": "markdown",
      "source": [
        "#### Resolução 2.3 - Custo Anual Total\n",
        "\n",
        "O Custo anual total é dado por:\n",
        "\n",
        "Custo Total = Custo de Pedidos + Custo de Manutenção\n",
        "\n",
        "* Custo de Pedidos![image.png](data:image/png;base64,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)\n",
        "\n",
        "* Custo de Manutenção Total ![image.png](data:image/png;base64,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)\n",
        "\n",
        "Onde:\n",
        "* D: Demanda anual do produto (unidades)\n",
        "* S: Custo fixo de reposição por pedido\n",
        "* H: Custo anual de manutenção por unidade\n",
        "\n"
      ],
      "metadata": {
        "id": "5JsBBKumpttV"
      }
    },
    {
      "cell_type": "code",
      "source": [
        "custo_pedidos = ( demanda_anual / EOQ ) * custo_reposicao\n",
        "custo_manutencao_total = ( EOQ / 2 ) * custo_manutencao\n",
        "\n",
        "custo_total = custo_pedidos + custo_manutencao_total\n",
        "\n",
        "print(f\"O custo total anual é de R$ {custo_total:.2f}\")\n",
        "print(f\"\\tO custo anual de pedidos é de R$ {custo_pedidos:.2f}\")\n",
        "print(f\"\\tO custo anual de manutenção é de R$ {custo_manutencao_total:.2f}\")"
      ],
      "metadata": {
        "colab": {
          "base_uri": "https://localhost:8080/"
        },
        "id": "0up9HkFHxPDg",
        "outputId": "23a60a9b-ca8b-47ea-9620-9383ecc194cc"
      },
      "execution_count": 15,
      "outputs": [
        {
          "output_type": "stream",
          "name": "stdout",
          "text": [
            "O custo total anual é de R$ 9600.00\n",
            "\tO custo anual de pedidos é de R$ 4800.00\n",
            "\tO custo anual de manutenção é de R$ 4800.00\n"
          ]
        }
      ]
    },
    {
      "cell_type": "markdown",
      "source": [
        "*Obs: No ponto ótimo, os custos com pedidos e com manutençao se equivalem*"
      ],
      "metadata": {
        "id": "oCy_qW5zypJO"
      }
    }
  ]
}