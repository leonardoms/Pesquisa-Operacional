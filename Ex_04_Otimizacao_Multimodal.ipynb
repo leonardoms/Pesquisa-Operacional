{
  "nbformat": 4,
  "nbformat_minor": 0,
  "metadata": {
    "colab": {
      "provenance": []
    },
    "kernelspec": {
      "name": "python3",
      "display_name": "Python 3"
    },
    "language_info": {
      "name": "python"
    }
  },
  "cells": [
    {
      "cell_type": "markdown",
      "source": [
        "## Exercícios de Pesquisa Operacional\n",
        "\n",
        "Exercícios criados projetados para testar competências essenciais, tais como:\n",
        "* Otimização linear;\n",
        "* Tomada de decisão em cenários reais; e\n",
        "* Estratégias práticas de logística e gestão."
      ],
      "metadata": {
        "id": "dcs30X-d-Mvx"
      }
    },
    {
      "cell_type": "markdown",
      "source": [
        "### Prepara o ambiente de execução"
      ],
      "metadata": {
        "id": "YIuUR6_pADYf"
      }
    },
    {
      "cell_type": "code",
      "source": [
        "!pip install pulp | tail -1\n",
        "!pip install pandas | tail -1\n",
        "!pip install numpy | tail -1\n",
        "\n",
        "import pulp\n",
        "import pandas as pd\n",
        "import numpy as np"
      ],
      "metadata": {
        "id": "p3AIxLJEADFr",
        "colab": {
          "base_uri": "https://localhost:8080/"
        },
        "outputId": "3e12ce4f-ac1b-40c8-c985-6d0281884337"
      },
      "execution_count": null,
      "outputs": [
        {
          "output_type": "stream",
          "name": "stdout",
          "text": [
            "Successfully installed pulp-3.1.1\n",
            "Requirement already satisfied: six>=1.5 in /usr/local/lib/python3.11/dist-packages (from python-dateutil>=2.8.2->pandas) (1.17.0)\n",
            "Requirement already satisfied: numpy in /usr/local/lib/python3.11/dist-packages (2.0.2)\n"
          ]
        }
      ]
    },
    {
      "cell_type": "markdown",
      "source": [
        "### Exercício 4: Otimização Multimodal\n",
        "\n",
        "Uma empresa usa três modais (rodoviário, aéreo e ferroviário) para atender a quatro cidades diferentes. Cada modal tem um custo e capacidade por cidade conforme a tabela abaixo:\n",
        "\n",
        "| Modal | Capacidade | Cidade A | Cidade B | Cidade C | Cidade D |\n",
        "|---:|:---:|:---:|:---:|:---:|:---:|\n",
        "| Rodoviário  | 500 | 12 | 15 | 14 | 13 |\n",
        "| Aéreo       | 300 | 20 | 22 | 18 | 21 |\n",
        "| Ferroviário | 400 | 10 | 12 | 11 |  9 |\n",
        "\n",
        "* *Custo em R\\$/un e Capacidade em un*\n",
        "\n",
        "---\n",
        "A demanda das cidades A, B, C e D é respectivamente 250, 350, 300 e 200 unidades.\n",
        "\n",
        "1. Formule o modelo matemático para minimizar os custos totais de transporte respeitando a capacidade dos modais e atendendo integralmente a demanda."
      ],
      "metadata": {
        "id": "GfLK9jcj-qlY"
      }
    },
    {
      "cell_type": "markdown",
      "source": [
        "#### Resolução\n",
        "\n",
        "Para resolver devemos entender a estrutura do problema:\n",
        "* Todas as demandas das cidades devem ser atendidas;\n",
        "* Deve ser respeitada a capacidade de cada modal; e\n",
        "* O objetivo é minimizar os custos.\n",
        "\n",
        "A variável *i* irá representar o modal (Rodoviário, Aéreo ou Ferroviário).\n",
        "A variável *j* irá representar a cidade (A, B, C ou D)\n",
        "\n",
        "Desta forma x$_{ij}$ representa a quantidade enviada pelo modal *i* para a cidade *j*."
      ],
      "metadata": {
        "id": "x0xn5ndn4UWK"
      }
    },
    {
      "cell_type": "code",
      "source": [
        "# Dados do problema\n",
        "modais = ['Rodoviário', 'Aéreo', 'Ferroviário']\n",
        "\n",
        "cidades = ['Cidade A', 'Cidade B', 'Cidade C', 'Cidade D']\n",
        "\n",
        "capacidade = {'Rodoviário': 500, 'Aéreo': 300, 'Ferroviário': 400}\n",
        "\n",
        "custos = {\n",
        "    'Rodoviário': [12, 15, 14, 13],\n",
        "    'Aéreo': [20, 22, 18, 21],\n",
        "    'Ferroviário': [10, 12, 11, 9]\n",
        "}\n",
        "\n",
        "demanda = {'Cidade A': 250, 'Cidade B': 350, 'Cidade C': 300, 'Cidade D': 200}\n",
        "\n",
        "# Define a variáveis de decisão Xij\n",
        "x = pulp.LpVariable.dicts(\"x\", ((i, j) for i in modais for j in cidades), lowBound=0, cat='Continuous')"
      ],
      "metadata": {
        "id": "3pgyPLMdECZ7"
      },
      "execution_count": null,
      "outputs": []
    },
    {
      "cell_type": "markdown",
      "source": [
        "Define a Função objetivo:\n",
        "\n",
        "![image.png](data:image/png;base64,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)"
      ],
      "metadata": {
        "id": "a6myzfEXcfss"
      }
    },
    {
      "cell_type": "code",
      "source": [
        "# Modelo de otimização\n",
        "modelo = pulp.LpProblem(\"Otimizacao_Mulcatimodal\", pulp.LpMinimize)\n",
        "\n",
        "# Função objetivo\n",
        "modelo += pulp.lpSum(custos[i][cidades.index(j)] * x[(i, j)] for i in modais for j in cidades)"
      ],
      "metadata": {
        "id": "tLAukqzWFGnH"
      },
      "execution_count": null,
      "outputs": []
    },
    {
      "cell_type": "markdown",
      "source": [
        "Define as restrições ao modelo:\n",
        "1. Restrição de Capacidade\n",
        "\n",
        "![image.png](data:image/png;base64,iVBORw0KGgoAAAANSUhEUgAAAPYAAAA4CAYAAADO8AUMAAAPVklEQVR4Xu2dB4xVRRfHj6AUBQUiNopoEFCxiwoW1FhRI2BD7BGxREFFEWxEwIYNLBQ7EECKLSjF3gsK2Aso1mCBqBSjocTv+01yNrOXe9+979379u2+PZNsYN/OPTPzn9PnzH0b/ff/JtYMAUOgrBDYyAS7rPbTFmMIOARMsI0RDIEyRMAEuww31ZZkCJhgGw8YAmWIgAl2GW6qLckQMME2HjAEyhABE+wy3FRbkiFggm08YAiUIQIm2GW4qbYkQ8AE23jAEChDBCIFe9iwYXLHHXdULLlx48bSoEGDRBCsWLFC1qxZE9l31113lXfffTcRLetkCBgC+SMQKdgI5r777ivff/+9o9qlSxeZM2dO3iMsXbpUPvroI5kyZYrMnj27QuBffPFF2X///fOmZw8YAoZAPAI5XfGFCxfK4YcfLuvXr3eULr/8chk6dGg81YgeKIvhw4fLfffdJyeeeKI8/vjjBdOyBw0BQyAagdgY+8EHH5SrrrrKUahbt6688sorstdee6XCdN68eXL00UfLggULZIcddkhFyx42BAyBDRGIFWweOeWUU2Tu3Lnu6c0331yWLFki9erVS4Xn1KlT5YMPPpA777wzFZ2a+PCXX34pKLfNNttMjjzySNliiy3cMghZ9txzz5q4pNg5k3dZuXKltGrVKrZv0g4//fST40fFL+lzpeoHBknmmrRfrnUkEuy//vpLOnbs6DaGhrWdPn16anyIv7fbbrvUdGoCAQ1DRo8e7Zh7v/32k6233lpmzpwpZ555prRs2VLuv/9+efPNN2vCctwcX331VXn//fdl0KBBkXOeNWuWnH322S63stNOO8n8+fNTr++II45wipH22GOPyUknnZSaZlUQOPjgg2P395FHHhHkbcCAARVTWrZsmdx2220O5+bNmyeaaiLBhhLxdteuXSuIPvDAA3LWWWclGqRcOv3zzz9yww03uCQiPwhjkrZ48WJnmRs2bChPPvmk7LLLLpUeO+aYY5yAXHTRRXLrrbcmIVkt+jRt2lTq168vv/76a875INRbbrmlnHfeeTJq1KhM5j548GCBB3/88Udp0qRJJjSLTYSQFhk64YQTIoc67rjjZNKkSZXW1Lt3b3nuuedk2rRpAq8kaYkFG2I33nijjBw50tEl3n7jjTdkt912SzJOje6Da3TNNdc44SP5B/hJGwoRod5+++3dEV9YCIOSOPXUU/PauKTjF7PfSy+95NaFJc7V8ELA7KGHHpLTTjstkynB4Hh8n3zySSb0qoLId999JwMHDoz0dvn7pZdeKs8//3yl6WAYfvjhB8FTSdryEmyI4k58/PHHjj4bGsWsSSdQnfsB5pVXXulyCrjQnTt3zmu6WKodd9xR1q1bJ59++mmkG8XfDjzwQFm+fHnq3EVeE6yizmoQvvjii8ReTq6pgSthTM+ePQXXtSY15IfwK8zLwN0mmZyF8stbsPH3yYprvJ2lexXcIDYQq0BDW2HtXn/9dfn777+lW7duRdtPGFBPAnCN99hjj4LG6t+/v4sB444JEexLLrkkNP4CA5Qna1YM/MkQHuCiHXrooc568jsan1jMD530mTh6Pm0UjdLyx8aDeeaZZ9x8WrRoEYrNhx9+KJ9//rl0797dMWqUddUxdP5RQDMmtQ+sq06dOpEegK6P+os4mgVtasqHUEQTJkwITSKSf8Boqlen/E/Ik69RyVuwWRcZ7QsuuKBiiVm6WEoUBYL7ds4557hsMUdj7du3d0JGQmbnnXeWsWPHpoS58uMIEEmLbbfdVu6++24nKIU2EiBoX2oA4uJANhBFSRzqN5JTKM6LL75YGjVqJA8//LCQCR43blxFwgiMUHLEnCiQ1157Tc4//3wn7Jtuumklty8JPcYHe+I6Gom9b775xuUGUHiEFpdddpkccsghMmbMGOeJ+LkGzSecfPLJbv3s0c8//7yBdWXN5557rvzyyy/u36eeesrhhNAGE2woWRQMySNOZ9555x35448/3Hz8sfEMEBrw2mabbeTee++Vm2++OXFcWuhe5/Mc66bY6+mnn6702Msvv+yw1RwE/aghOf3004Uq0GuvvVb69euXeKiCBBvqao34P0cOTCppxi7J7A477DDHnNBUV7Vv377OShCPBjPzUcLBWAhD3DELWX4EIqssqyo/FFEhmW4tDoI5NUmpmL/99tsut0FsjkeDQJOQAxMSL2h8TXZqwiUJPRXqTp06CT968tGuXTuXIEOQmAs0qWdAufsVhOrN0UeTgGT6Ycqg8ucI9euvvxYsO/NFEbZu3XqDfUVYqaXQUIZ97tChg1N0fnxN5v2FF16oFPLg2q5du9YlPLVh+RmPRGapGooM5eNXXgY/u+uuu4Qybj4n7IA38zkaLliwARj3AA1NK7TkNAzc3377TW6//XZnNWlYCywXWhswSGBdeOGFldxAtDlMFtT2PNunT58NLEvYuGmSZEF6GlcWGqrsvvvu8u+//8qiRYsqSGNFESjNQrPRxGy4nQiZnzXVhNXVV1/tGDsJPQZC4FAWJHI0DoTJttpqK+nRo4ezGo8++qjzpth7f358hjX1nw2Lr1Xp3XPPPY5haV999ZU7AhwyZEjFUQ/JShKPKHRl6rD4WpOP2o8+8AI8AV6+wUEBYgV9Ya9qAWdvZsyYUWGdUWpkyn0DgKcEzhMnTpQrrriikgJNMt+CBRviaFFcMtxNtOBbb73ltGnWDUuFi4XARxXGEFvSgpo4lyWPmqd/rAWjwez5NmXouPia+RGD+q6ZMmpQKZCI22effTbIqobhgzDedNNN7kgIxsbLiaOHywzjxylpDTN8KxL1bFj2WhOwfoiiFY7qjYA39PEaUOg8QwvLsOtxELHoxhtv7JTYAQcc4JRQkB+I6YMhT757m0V/9lETz2Fn1zpGmAJNMn4qwWYAtC7141mUmkZNmI2ikCXqEgqCiIAEq3r4/M8//yy4CIbniXmoaecYAouQtOJOGTVOsOm3atWqSgUJqhR8Cxxm0RQvmATh9fFBoLCeuM+MwTFlHD21pGrlo/ZDlQaJHi0J1md9ixuVvSZ0C4YoQW+Esdn333//vdI5eZgHoIpCE7pR80aoGTvpHiYRoEL7ECawZyivqEy5KktCmVxFQGFzSCXYGlOx0Vmk6HWC0KWaiAVR8YYV8QWE8dq2besukhA7EheTfMB10biFz7lsgmDvvffeqVwvGJTYlfCAmAcLGRejsSnEwXgwUVdUWSeWlISQz2zKvFRXqQekioJTARKJm2yyiavo0tjUx0ct6rHHHiuTJ0+uqD+Io0eJK1Y9LBnqlzkSgmEZsZ4U1XA2S3kw4YCfo1DritdAnI5XAkMjXMcff7ybmza8EQSZbPtRRx3l4mV+Z51+eIXCImdCxp39h8YZZ5zhjiTDzrR13sT8fOkNStoPHxgfeljxuD0tVIjDnoM/CCfJQUSdbYPVLbfc4pQz+Qj2jyRpklawYGuMjauQ5sZX2CT1LjixNFlSP/mCMBCPUByDMJCEIDtLFhS3TV02mAwGRQhXr16d2XknY+DiokhIauRqKqDEh1h7v7FZMCQMHEw6cs7J39Qt9Y8YsUpgTmacjLBaSj8OZc3PPvusEzZoJ6VHQgpFcv311zsPRRvZdM7ziXlhSOrZWRMxN4oOV5m4GiusSsHPwbCO8ePHu8QngoliYO6anPPDFtaGEsM9hTZKTAVW10qSkHEYn7nRlzjUd+0ZH95gLDL0CAnHXxwrogS0kZxkvfBNsDAkiQCl6cNaOblAQYdVoxFOkOfAEyMcHDFiROJLUwUJNqABLlq2GAUCaHpcFJIpxNVsDkyAy/ntt9+6eFurndDICDnHVL4mxo1GA/MM1qxU5a8wFJa+TZs2bvOwijAQvyOcUVaC9X/22WdunayLYxusO8yJJ6DKVONrXl6BEIMXY2DJfIWRlB5KgGQjcTZ0wBuBJeTSuYIpSoCMMwpEx8GT4kiOv+uc8QDwmOivFhpvCqE86KCDnDBied977z03Fi/zUJooNHI4KBsSiRw/ksR74oknnIXFE9CbhngOKBDmypk/iT08Nk5X4FfyQAg6z/nZZU2uIqB4d1XZwDrIt/74GDiSZ5wWYKjy8YoLEmxNJmVxESQKSASWDdJLIsHf/eeYD8zExvlxtrqpWVU8FbrpKBksC4yKEFBlluSWDzEhTKkYhOUMcFehhTKkCARhjKKdhB5rZEwUBC3qmBD3FY8lGK8Gb3EprSAd/dx3gZk/CbCgsgve4mIduOjBderYYTe+NN7HA2jWrNkGz6IA2KOqbnhVHC1Gtai1xs0zb8HGbcLiVJdSUo0n2TBcFdxybbgwaETisbjmM3Nc31wMn+TZrPqExddZ0S43OniWeBO8xQcvih9t4EghFJ5CubS8BJsYB0HJohgFQcIlIn5O0/RKKa4YbqvvruQTX+MKkshI2uhbyltFWCeShWShSQyx7upwjJMUv6ruh8sNv1GxSGjkhynE8r169apWFWpp8Uks2CrUuCtxt3mSTIrsHq5Uvmn8MNpRx124qdddd11esUmSuVeHPhxfUbWljdib2NhaNAJhx10YBmJ2DEM5tUSCrVcPqeZJ+1okwNM0flwNdSFAawUabhfJKhJQpbSshazBnjEE0iIQK9hZnlVT0ECCC2Er1vECxxdcEiEBg7scdfsoLXD2vCFQnRHIKdi4uBxJ8BpizvryaZwdc6BOXTPxK/+nwkpbMW6E5TM/62sIlDMCOd8r7l/yyBIEDuVxw6tDaV+W6zJahkB1QSBSsKmsojywGA0PgKIRa4aAIVAcBGJj7OIMa1QNAUOgmAiYYBcTXaNtCJQIARPsEgFvwxoCxUTABLuY6BptQ6BECGQu2JSKUuFTW77ho0T7ZsMaAjkRyFywuWrGdUTu7VozBAyB0iCQuWBH1W2XZnk2qiFQOxHIVLC5ccTle7tlVDuZyVZdfRDITLC5/cVlEd7JxQvea8o3IFafrbCZGALZIZCJYHP1jfeTcd+Vd1rxLmj/a0Czm65RMgQMgSQIZCLYZMJp1H7zaptivoo4yaKsjyFQ2xHIRLAVRN67xfvH4r4vubaDbus3BIqNQKaCzVsqEW7eDW3NEDAESodApoJt8XXpNtJGNgR8BDITbH29K+/45r3X1gwBQ6B0CKQWbF72zrus+ToZXrAX/LbL0i3NRjYEai8CqQWbL0HnK1N4eTzfzFCV339Ue7fNVm4I5EYgtWAbwIaAIVD9EPgfwn2U4LWAl6IAAAAASUVORK5CYII=)\n",
        "\n",
        "2. Atendimentos às demandas das cidades:\n",
        "\n",
        "\n",
        "![image.png](data:image/png;base64,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)"
      ],
      "metadata": {
        "id": "zLtSuQHgfCoZ"
      }
    },
    {
      "cell_type": "code",
      "source": [
        "# Restrições de capacidade\n",
        "for i in modais:\n",
        "    modelo += pulp.lpSum(x[(i, j)] for j in cidades) <= capacidade[i]\n",
        "\n",
        "# Restrições de demanda\n",
        "for j in cidades:\n",
        "    modelo += pulp.lpSum(x[(i, j)] for i in modais) == demanda[j]\n",
        "\n",
        "# compila e resolve o problema\n",
        "modelo.solve()\n",
        "\n",
        "# Resultado\n",
        "resultado = [(i, j, pulp.value(x[(i, j)])) for i in modais for j in cidades if pulp.value(x[(i, j)]) > 0]\n",
        "\n",
        "df_cidade_modal = pd.DataFrame(resultado, columns=['Cidade', 'Modal', 'Quantidade'])\n",
        "\n",
        "print(df_cidade_modal)\n",
        "print(f\"\\nCusto total: R$ {pulp.value(modelo.objective):.0f}\")"
      ],
      "metadata": {
        "colab": {
          "base_uri": "https://localhost:8080/"
        },
        "id": "meQ61eSfNNvS",
        "outputId": "45488ee6-da33-4bc7-847a-2ba383f64f27"
      },
      "execution_count": null,
      "outputs": [
        {
          "output_type": "stream",
          "name": "stdout",
          "text": [
            "        Cidade     Modal  Quantidade\n",
            "0   Rodoviário  Cidade A       250.0\n",
            "1   Rodoviário  Cidade B       250.0\n",
            "2        Aéreo  Cidade C       200.0\n",
            "3  Ferroviário  Cidade B       100.0\n",
            "4  Ferroviário  Cidade C       100.0\n",
            "5  Ferroviário  Cidade D       200.0\n",
            "\n",
            "Custo total: R$ 14450\n"
          ]
        }
      ]
    }
  ]
}